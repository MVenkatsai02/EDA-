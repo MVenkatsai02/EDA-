{
 "cells": [
  {
   "cell_type": "code",
   "execution_count": 1,
   "id": "78ad6dac",
   "metadata": {
    "execution": {
     "iopub.execute_input": "2024-07-14T15:52:18.484381Z",
     "iopub.status.busy": "2024-07-14T15:52:18.483880Z",
     "iopub.status.idle": "2024-07-14T15:52:21.391630Z",
     "shell.execute_reply": "2024-07-14T15:52:21.390493Z"
    },
    "papermill": {
     "duration": 2.918086,
     "end_time": "2024-07-14T15:52:21.394062",
     "exception": false,
     "start_time": "2024-07-14T15:52:18.475976",
     "status": "completed"
    },
    "tags": []
   },
   "outputs": [
    {
     "data": {
      "text/html": [
       "<div>\n",
       "<style scoped>\n",
       "    .dataframe tbody tr th:only-of-type {\n",
       "        vertical-align: middle;\n",
       "    }\n",
       "\n",
       "    .dataframe tbody tr th {\n",
       "        vertical-align: top;\n",
       "    }\n",
       "\n",
       "    .dataframe thead th {\n",
       "        text-align: right;\n",
       "    }\n",
       "</style>\n",
       "<table border=\"1\" class=\"dataframe\">\n",
       "  <thead>\n",
       "    <tr style=\"text-align: right;\">\n",
       "      <th></th>\n",
       "      <th>id</th>\n",
       "      <th>date</th>\n",
       "      <th>team1</th>\n",
       "      <th>team2</th>\n",
       "      <th>toss_winner</th>\n",
       "      <th>decision</th>\n",
       "      <th>first_score</th>\n",
       "      <th>first_wkts</th>\n",
       "      <th>second_score</th>\n",
       "      <th>second_wkts</th>\n",
       "      <th>winner</th>\n",
       "      <th>player_of_the_match</th>\n",
       "      <th>most_runs</th>\n",
       "      <th>most_wkts</th>\n",
       "    </tr>\n",
       "  </thead>\n",
       "  <tbody>\n",
       "    <tr>\n",
       "      <th>0</th>\n",
       "      <td>1</td>\n",
       "      <td>March 22,2024</td>\n",
       "      <td>Banglore</td>\n",
       "      <td>Chennai</td>\n",
       "      <td>Banglore</td>\n",
       "      <td>Bat</td>\n",
       "      <td>173</td>\n",
       "      <td>6</td>\n",
       "      <td>176</td>\n",
       "      <td>4</td>\n",
       "      <td>Chennai</td>\n",
       "      <td>Mustafizur Rahman</td>\n",
       "      <td>Anuj Rawat</td>\n",
       "      <td>Mustafizur Rahman</td>\n",
       "    </tr>\n",
       "    <tr>\n",
       "      <th>1</th>\n",
       "      <td>2</td>\n",
       "      <td>March 23,2024</td>\n",
       "      <td>Delhi</td>\n",
       "      <td>Punjab</td>\n",
       "      <td>Punjab</td>\n",
       "      <td>Field</td>\n",
       "      <td>174</td>\n",
       "      <td>9</td>\n",
       "      <td>177</td>\n",
       "      <td>6</td>\n",
       "      <td>Punjab</td>\n",
       "      <td>Sam Curran</td>\n",
       "      <td>Sam Curran</td>\n",
       "      <td>Kuldeep Yadav</td>\n",
       "    </tr>\n",
       "    <tr>\n",
       "      <th>2</th>\n",
       "      <td>3</td>\n",
       "      <td>March 23,2024</td>\n",
       "      <td>Kolkata</td>\n",
       "      <td>Hyderabad</td>\n",
       "      <td>Hyderabad</td>\n",
       "      <td>Field</td>\n",
       "      <td>208</td>\n",
       "      <td>7</td>\n",
       "      <td>204</td>\n",
       "      <td>7</td>\n",
       "      <td>Kolkata</td>\n",
       "      <td>Andre Russell</td>\n",
       "      <td>Andre Russell</td>\n",
       "      <td>T Natarajan</td>\n",
       "    </tr>\n",
       "    <tr>\n",
       "      <th>3</th>\n",
       "      <td>4</td>\n",
       "      <td>March 24,2024</td>\n",
       "      <td>Rajasthan</td>\n",
       "      <td>Lucknow</td>\n",
       "      <td>Rajasthan</td>\n",
       "      <td>Bat</td>\n",
       "      <td>193</td>\n",
       "      <td>4</td>\n",
       "      <td>173</td>\n",
       "      <td>6</td>\n",
       "      <td>Rajasthan</td>\n",
       "      <td>Sanju Samson</td>\n",
       "      <td>Sanju Samson</td>\n",
       "      <td>Trent Boult</td>\n",
       "    </tr>\n",
       "    <tr>\n",
       "      <th>4</th>\n",
       "      <td>5</td>\n",
       "      <td>March 24,2024</td>\n",
       "      <td>Gujarat</td>\n",
       "      <td>Mumbai</td>\n",
       "      <td>Mumbai</td>\n",
       "      <td>Field</td>\n",
       "      <td>168</td>\n",
       "      <td>6</td>\n",
       "      <td>162</td>\n",
       "      <td>9</td>\n",
       "      <td>Gujarat</td>\n",
       "      <td>Sai Sudharsan</td>\n",
       "      <td>Dewald Brevis</td>\n",
       "      <td>Jasprit Bumrah</td>\n",
       "    </tr>\n",
       "  </tbody>\n",
       "</table>\n",
       "</div>"
      ],
      "text/plain": [
       "   id           date      team1      team2 toss_winner decision  first_score  \\\n",
       "0   1  March 22,2024   Banglore    Chennai    Banglore      Bat          173   \n",
       "1   2  March 23,2024      Delhi     Punjab      Punjab    Field          174   \n",
       "2   3  March 23,2024    Kolkata  Hyderabad   Hyderabad    Field          208   \n",
       "3   4  March 24,2024  Rajasthan    Lucknow   Rajasthan      Bat          193   \n",
       "4   5  March 24,2024    Gujarat     Mumbai      Mumbai    Field          168   \n",
       "\n",
       "   first_wkts  second_score  second_wkts     winner player_of_the_match  \\\n",
       "0           6           176            4    Chennai   Mustafizur Rahman   \n",
       "1           9           177            6     Punjab          Sam Curran   \n",
       "2           7           204            7    Kolkata       Andre Russell   \n",
       "3           4           173            6  Rajasthan        Sanju Samson   \n",
       "4           6           162            9    Gujarat       Sai Sudharsan   \n",
       "\n",
       "       most_runs          most_wkts  \n",
       "0     Anuj Rawat  Mustafizur Rahman  \n",
       "1     Sam Curran      Kuldeep Yadav  \n",
       "2  Andre Russell        T Natarajan  \n",
       "3   Sanju Samson        Trent Boult  \n",
       "4  Dewald Brevis     Jasprit Bumrah  "
      ]
     },
     "execution_count": 1,
     "metadata": {},
     "output_type": "execute_result"
    }
   ],
   "source": [
    "# importing libraries\n",
    "import pandas as pd\n",
    "import pandas as pd\n",
    "import numpy as np\n",
    "import matplotlib.pyplot as plt\n",
    "import seaborn as sns\n",
    "\n",
    "from sklearn.model_selection import train_test_split\n",
    "from sklearn.preprocessing import StandardScaler\n"
   ]
  },
  {
   "cell_type": "code",
   "execution_count": null,
   "id": "95509749",
   "metadata": {},
   "outputs": [],
   "source": [
    "# File path to the uploaded dataset\n",
    "file_path = '/kaggle/input/ipl-2024-matches/ipl2024 Matches.csv'"
   ]
  },
  {
   "cell_type": "code",
   "execution_count": null,
   "id": "c6c1f80d",
   "metadata": {},
   "outputs": [],
   "source": [
    "# Load the dataset into a DataFrame\n",
    "df = pd.read_csv(file_path)"
   ]
  },
  {
   "cell_type": "code",
   "execution_count": null,
   "id": "ab63cf96",
   "metadata": {},
   "outputs": [],
   "source": [
    "# Display the first few rows of the dataset\n",
    "df.head()"
   ]
  },
  {
   "cell_type": "code",
   "execution_count": 2,
   "id": "3a588351",
   "metadata": {
    "execution": {
     "iopub.execute_input": "2024-07-14T15:52:21.422169Z",
     "iopub.status.busy": "2024-07-14T15:52:21.421175Z",
     "iopub.status.idle": "2024-07-14T15:52:21.428118Z",
     "shell.execute_reply": "2024-07-14T15:52:21.427116Z"
    },
    "papermill": {
     "duration": 0.016705,
     "end_time": "2024-07-14T15:52:21.430137",
     "exception": false,
     "start_time": "2024-07-14T15:52:21.413432",
     "status": "completed"
    },
    "tags": []
   },
   "outputs": [
    {
     "data": {
      "text/plain": [
       "Index(['id', 'date', 'team1', 'team2', 'toss_winner', 'decision',\n",
       "       'first_score', 'first_wkts', 'second_score', 'second_wkts', 'winner',\n",
       "       'player_of_the_match', 'most_runs', 'most_wkts'],\n",
       "      dtype='object')"
      ]
     },
     "execution_count": 2,
     "metadata": {},
     "output_type": "execute_result"
    }
   ],
   "source": [
    "# checking columns\n",
    "df.columns"
   ]
  },
  {
   "cell_type": "code",
   "execution_count": 3,
   "id": "6369233c",
   "metadata": {
    "execution": {
     "iopub.execute_input": "2024-07-14T15:52:21.445212Z",
     "iopub.status.busy": "2024-07-14T15:52:21.444716Z",
     "iopub.status.idle": "2024-07-14T15:52:21.455327Z",
     "shell.execute_reply": "2024-07-14T15:52:21.454271Z"
    },
    "papermill": {
     "duration": 0.021086,
     "end_time": "2024-07-14T15:52:21.457791",
     "exception": false,
     "start_time": "2024-07-14T15:52:21.436705",
     "status": "completed"
    },
    "tags": []
   },
   "outputs": [
    {
     "name": "stdout",
     "output_type": "stream",
     "text": [
      "id                     0\n",
      "date                   0\n",
      "team1                  0\n",
      "team2                  0\n",
      "toss_winner            0\n",
      "decision               3\n",
      "first_score            0\n",
      "first_wkts             0\n",
      "second_score           0\n",
      "second_wkts            0\n",
      "winner                 0\n",
      "player_of_the_match    3\n",
      "most_runs              3\n",
      "most_wkts              3\n",
      "dtype: int64\n"
     ]
    }
   ],
   "source": [
    "# Check for missing values\n",
    "print(df.isnull().sum())"
   ]
  },
  {
   "cell_type": "code",
   "execution_count": 4,
   "id": "777c3516",
   "metadata": {
    "execution": {
     "iopub.execute_input": "2024-07-14T15:52:21.473500Z",
     "iopub.status.busy": "2024-07-14T15:52:21.472539Z",
     "iopub.status.idle": "2024-07-14T15:52:21.497354Z",
     "shell.execute_reply": "2024-07-14T15:52:21.496106Z"
    },
    "papermill": {
     "duration": 0.035385,
     "end_time": "2024-07-14T15:52:21.500116",
     "exception": false,
     "start_time": "2024-07-14T15:52:21.464731",
     "status": "completed"
    },
    "tags": []
   },
   "outputs": [
    {
     "name": "stdout",
     "output_type": "stream",
     "text": [
      "              id  first_score  first_wkts  second_score  second_wkts\n",
      "count  74.000000    74.000000   74.000000     74.000000    74.000000\n",
      "mean   37.500000   180.554054    6.148649    169.054054     5.783784\n",
      "std    21.505813    51.855474    2.469998     47.651386     2.934305\n",
      "min     1.000000     0.000000    0.000000      0.000000     0.000000\n",
      "25%    19.250000   162.250000    4.250000    145.250000     3.250000\n",
      "50%    37.500000   182.500000    6.000000    173.500000     6.000000\n",
      "75%    55.750000   208.000000    8.000000    198.250000     8.000000\n",
      "max    74.000000   277.000000   10.000000    262.000000    10.000000\n"
     ]
    }
   ],
   "source": [
    "# Display basic statistics\n",
    "print(df.describe())"
   ]
  },
  {
   "cell_type": "code",
   "execution_count": 5,
   "id": "f1cade6e",
   "metadata": {
    "execution": {
     "iopub.execute_input": "2024-07-14T15:52:21.516758Z",
     "iopub.status.busy": "2024-07-14T15:52:21.516362Z",
     "iopub.status.idle": "2024-07-14T15:52:21.793864Z",
     "shell.execute_reply": "2024-07-14T15:52:21.792626Z"
    },
    "papermill": {
     "duration": 0.288598,
     "end_time": "2024-07-14T15:52:21.796777",
     "exception": false,
     "start_time": "2024-07-14T15:52:21.508179",
     "status": "completed"
    },
    "tags": []
   },
   "outputs": [
    {
     "data": {
      "image/png": "[encoded data removed]",
      "text/plain": [
       "<Figure size 640x480 with 1 Axes>"
      ]
     },
     "metadata": {},
     "output_type": "display_data"
    }
   ],
   "source": [
    "# Visualize the distribution of some key features\n",
    "sns.countplot(data=df, x='winner')\n",
    "plt.xlabel('Feature')\n",
    "plt.ylabel('Count')\n",
    "plt.title('Winning Team Distribution')\n",
    "plt.xticks(rotation=90)\n",
    "plt.show()"
   ]
  },
  {
   "cell_type": "code",
   "execution_count": 6,
   "id": "4f1c7103",
   "metadata": {
    "execution": {
     "iopub.execute_input": "2024-07-14T15:52:21.828015Z",
     "iopub.status.busy": "2024-07-14T15:52:21.827635Z",
     "iopub.status.idle": "2024-07-14T15:52:21.835432Z",
     "shell.execute_reply": "2024-07-14T15:52:21.834237Z"
    },
    "papermill": {
     "duration": 0.019831,
     "end_time": "2024-07-14T15:52:21.838020",
     "exception": false,
     "start_time": "2024-07-14T15:52:21.818189",
     "status": "completed"
    },
    "tags": []
   },
   "outputs": [],
   "source": [
    "# Handle missing values (if any)\n",
    "df = df.dropna()"
   ]
  },
  {
   "cell_type": "code",
   "execution_count": 7,
   "id": "36ba3523",
   "metadata": {
    "execution": {
     "iopub.execute_input": "2024-07-14T15:52:21.854742Z",
     "iopub.status.busy": "2024-07-14T15:52:21.854318Z",
     "iopub.status.idle": "2024-07-14T15:52:21.870077Z",
     "shell.execute_reply": "2024-07-14T15:52:21.869083Z"
    },
    "papermill": {
     "duration": 0.026926,
     "end_time": "2024-07-14T15:52:21.872496",
     "exception": false,
     "start_time": "2024-07-14T15:52:21.845570",
     "status": "completed"
    },
    "tags": []
   },
   "outputs": [],
   "source": [
    "# Convert categorical variables to numeric (if needed)\n",
    "df = pd.get_dummies(df, drop_first=True)"
   ]
  },
  {
   "cell_type": "code",
   "execution_count": 8,
   "id": "71582fb2",
   "metadata": {
    "execution": {
     "iopub.execute_input": "2024-07-14T15:52:21.889515Z",
     "iopub.status.busy": "2024-07-14T15:52:21.888471Z",
     "iopub.status.idle": "2024-07-14T15:52:21.895669Z",
     "shell.execute_reply": "2024-07-14T15:52:21.894397Z"
    },
    "papermill": {
     "duration": 0.018275,
     "end_time": "2024-07-14T15:52:21.898064",
     "exception": false,
     "start_time": "2024-07-14T15:52:21.879789",
     "status": "completed"
    },
    "tags": []
   },
   "outputs": [],
   "source": [
    "# Define features and target\n",
    "X = df.drop('first_score', axis=1)\n",
    "y = df['first_score']"
   ]
  },
  {
   "cell_type": "code",
   "execution_count": 9,
   "id": "fcb86cb6",
   "metadata": {
    "execution": {
     "iopub.execute_input": "2024-07-14T15:52:21.914794Z",
     "iopub.status.busy": "2024-07-14T15:52:21.914405Z",
     "iopub.status.idle": "2024-07-14T15:52:21.928223Z",
     "shell.execute_reply": "2024-07-14T15:52:21.926882Z"
    },
    "papermill": {
     "duration": 0.025982,
     "end_time": "2024-07-14T15:52:21.931458",
     "exception": false,
     "start_time": "2024-07-14T15:52:21.905476",
     "status": "completed"
    },
    "tags": []
   },
   "outputs": [],
   "source": [
    "# Standardize the features\n",
    "scaler = StandardScaler()\n",
    "X = scaler.fit_transform(X)"
   ]
  },
  {
   "cell_type": "markdown",
   "id": "1773d1bb",
   "metadata": {
    "papermill": {
     "duration": 0.007018,
     "end_time": "2024-07-14T15:52:21.945934",
     "exception": false,
     "start_time": "2024-07-14T15:52:21.938916",
     "status": "completed"
    },
    "tags": []
   },
   "source": [
    "**Splitting the Data into Training and Testing Sets**"
   ]
  },
  {
   "cell_type": "code",
   "execution_count": 10,
   "id": "b41abd3f",
   "metadata": {
    "execution": {
     "iopub.execute_input": "2024-07-14T15:52:21.963241Z",
     "iopub.status.busy": "2024-07-14T15:52:21.962489Z",
     "iopub.status.idle": "2024-07-14T15:52:21.970457Z",
     "shell.execute_reply": "2024-07-14T15:52:21.969274Z"
    },
    "papermill": {
     "duration": 0.019025,
     "end_time": "2024-07-14T15:52:21.972701",
     "exception": false,
     "start_time": "2024-07-14T15:52:21.953676",
     "status": "completed"
    },
    "tags": []
   },
   "outputs": [],
   "source": [
    "# Split the data into training and testing sets\n",
    "X_train, X_test, y_train, y_test = train_test_split(X, y, test_size=0.3, random_state=42)"
   ]
  }
 ],
 "metadata": {
  "kaggle": {
   "accelerator": "none",
   "dataSources": [
    {
     "datasetId": 5368270,
     "sourceId": 8924696,
     "sourceType": "datasetVersion"
    }
   ],
   "dockerImageVersionId": 30746,
   "isGpuEnabled": false,
   "isInternetEnabled": true,
   "language": "python",
   "sourceType": "notebook"
  },
  "kernelspec": {
   "display_name": "Python 3",
   "language": "python",
   "name": "python3"
  },
  "language_info": {
   "codemirror_mode": {
    "name": "ipython",
    "version": 3
   },
   "file_extension": ".py",
   "mimetype": "text/x-python",
   "name": "python",
   "nbconvert_exporter": "python",
   "pygments_lexer": "ipython3",
   "version": "3.10.13"
  },
  "papermill": {
   "default_parameters": {},
   "duration": 8.633776,
   "end_time": "2024-07-14T15:52:23.796496",
   "environment_variables": {},
   "exception": null,
   "input_path": "__notebook__.ipynb",
   "output_path": "__notebook__.ipynb",
   "parameters": {},
   "start_time": "2024-07-14T15:52:15.162720",
   "version": "2.5.0"
  }
 },
 "nbformat": 4,
 "nbformat_minor": 5
}
